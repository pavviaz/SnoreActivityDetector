{
 "cells": [
  {
   "cell_type": "code",
   "execution_count": null,
   "metadata": {},
   "outputs": [],
   "source": [
    "from data_utils.extract_features_from_dataset import FeatureExtractor\n",
    "from ml_pipeline.model_manager import ModelManager"
   ]
  },
  {
   "cell_type": "code",
   "execution_count": 7,
   "metadata": {},
   "outputs": [],
   "source": [
    "FEATURES_EXTRACTOR_CONFIG_PATH = \"data_utils/features_extraction_configs/extractor_config.yaml\"\n",
    "\n",
    "TRAINING_CONFIG_PATH = \"ml_pipeline/training_configs/training_config.yaml\""
   ]
  },
  {
   "cell_type": "code",
   "execution_count": null,
   "metadata": {},
   "outputs": [],
   "source": [
    "extractor = FeatureExtractor(FEATURES_EXTRACTOR_CONFIG_PATH)\n",
    "extractor.extract_features()"
   ]
  },
  {
   "cell_type": "code",
   "execution_count": null,
   "metadata": {},
   "outputs": [],
   "source": [
    "trainer = ModelManager(TRAINING_CONFIG_PATH)\n",
    "trainer.train()\n",
    "trainer.export_jit_model()"
   ]
  }
 ],
 "metadata": {
  "kernelspec": {
   "display_name": "venv",
   "language": "python",
   "name": "python3"
  },
  "language_info": {
   "codemirror_mode": {
    "name": "ipython",
    "version": 3
   },
   "file_extension": ".py",
   "mimetype": "text/x-python",
   "name": "python",
   "nbconvert_exporter": "python",
   "pygments_lexer": "ipython3",
   "version": "3.9.7"
  }
 },
 "nbformat": 4,
 "nbformat_minor": 2
}
