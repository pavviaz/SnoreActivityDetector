{
 "cells": [
  {
   "cell_type": "code",
   "execution_count": 29,
   "metadata": {},
   "outputs": [],
   "source": [
    "# LIBS\n",
    "import feature_extractors\n",
    "import pydub\n",
    "import numpy as np\n",
    "import torch\n",
    "from matplotlib import pyplot as plt"
   ]
  },
  {
   "cell_type": "code",
   "execution_count": 40,
   "metadata": {},
   "outputs": [],
   "source": [
    "# FOURIER PARAMS\n",
    "WIN_LEN = 10  # ms\n",
    "HOP_LEN = 30  # ms\n",
    "SR = 16  # khz"
   ]
  },
  {
   "cell_type": "code",
   "execution_count": 41,
   "metadata": {},
   "outputs": [],
   "source": [
    "# CHOOSE THIS\n",
    "fe = feature_extractors.MelSpec_FE(sample_rate=SR * 1000,\n",
    "                                   win_length=WIN_LEN * SR,\n",
    "                                   n_fft=WIN_LEN * SR,\n",
    "                                   hop_length=HOP_LEN * SR,\n",
    "                                   n_mels=40)"
   ]
  },
  {
   "cell_type": "code",
   "execution_count": 66,
   "metadata": {},
   "outputs": [],
   "source": [
    "# OR THIS\n",
    "fe = feature_extractors.MFCC_FE(sample_rate=SR * 1000,\n",
    "                                win_length=WIN_LEN * SR,\n",
    "                                n_fft=WIN_LEN * SR,\n",
    "                                hop_length=HOP_LEN * SR,\n",
    "                                n_mels=40)"
   ]
  },
  {
   "cell_type": "code",
   "execution_count": 75,
   "metadata": {},
   "outputs": [],
   "source": [
    "# SPECIFY PATH TO AUDIO\n",
    "audio_path = \"data/audios/_5bo0C_CrQ4.wav\"\n",
    "# audio_path = \"record.wav\""
   ]
  },
  {
   "cell_type": "code",
   "execution_count": 50,
   "metadata": {},
   "outputs": [],
   "source": [
    "#  https://stackoverflow.com/a/66922265\n",
    "def pydub_to_pt(audio: pydub.AudioSegment):\n",
    "    \"\"\"\n",
    "    Converts pydub audio segment into np.float32 of shape [duration_in_seconds*sample_rate, channels],\n",
    "    where each value is in range [-1.0, 1.0]. \n",
    "    Returns tuple (audio_np_array, sample_rate).\n",
    "    \"\"\"\n",
    "    return torch.tensor(np.array(audio.get_array_of_samples(), dtype=np.float32).reshape((-1, audio.channels)) / (\n",
    "            1 << (8 * audio.sample_width - 1))).permute(-1, -2), audio.frame_rate"
   ]
  },
  {
   "cell_type": "code",
   "execution_count": 76,
   "metadata": {},
   "outputs": [],
   "source": [
    "# LOADING AUDIO\n",
    "audio = pydub.AudioSegment.from_wav(audio_path)\n",
    "audio = audio.set_channels(1)"
   ]
  },
  {
   "cell_type": "code",
   "execution_count": null,
   "metadata": {},
   "outputs": [],
   "source": [
    "# SPECIFY WINDOW (FROM - TO)\n",
    "WINDOW_START = 0\n",
    "WINDOW_END = 2000"
   ]
  },
  {
   "cell_type": "code",
   "execution_count": 77,
   "metadata": {},
   "outputs": [
    {
     "data": {
      "text/plain": [
       "<matplotlib.image.AxesImage at 0x1bbde555d00>"
      ]
     },
     "execution_count": 77,
     "metadata": {},
     "output_type": "execute_result"
    },
    {
     "data": {
      "image/png": "[encoded data removed]",
      "text/plain": [
       "<Figure size 640x480 with 1 Axes>"
      ]
     },
     "metadata": {},
     "output_type": "display_data"
    }
   ],
   "source": [
    "# SHOW FEATURES\n",
    "audio_pt, _ = pydub_to_pt(audio[WINDOW_START : WINDOW_END])\n",
    "features = fe(audio_pt)\n",
    "plt.imshow(features.squeeze(0))"
   ]
  }
 ],
 "metadata": {
  "kernelspec": {
   "display_name": "venv",
   "language": "python",
   "name": "python3"
  },
  "language_info": {
   "codemirror_mode": {
    "name": "ipython",
    "version": 3
   },
   "file_extension": ".py",
   "mimetype": "text/x-python",
   "name": "python",
   "nbconvert_exporter": "python",
   "pygments_lexer": "ipython3",
   "version": "3.9.7"
  },
  "orig_nbformat": 4
 },
 "nbformat": 4,
 "nbformat_minor": 2
}
